{
 "cells": [
  {
   "cell_type": "markdown",
   "id": "7d8de8e9-6228-44c1-a6d3-ff3f1c488d80",
   "metadata": {},
   "source": [
    "### Hypotheses\n",
    "* **H0 (Null Hypothesis):** There is no statistically significant difference in the conversion rate between users who see a non-discounted offer (Group A) and users who see a discounted offer (Group B).\n",
    "* **H1 (Alternative Hypothesis):** Users who see the discounted offer (Group B) are more likely to purchase a weekly subscription compared to Group A.\n",
    "---\n",
    "### User Segmentation Criteria\n",
    "\n",
    "The users included in the test sample must meet the following criteria:\n",
    "\n",
    "* Users who have recently installed the app (within 7 days).\n",
    "* Users who have not yet purchased a subscription.\n",
    "* Users who see the subscription offer screen.\n",
    "\n",
    "Conversely, we are excluding users from the test who:\n",
    "\n",
    "* Have already purchased a subscription.\n",
    "* Have seen the previous offer (as they are aware that $4.99 is the non-discounted price)."
   ]
  },
  {
   "cell_type": "code",
   "execution_count": 2,
   "id": "5e6274ae-699a-40e7-922a-d9bf4f66b9c2",
   "metadata": {},
   "outputs": [],
   "source": [
    "##We'll begin by importing the libraries we need\n",
    "import scipy.stats\n",
    "import pandas as pd\n",
    "import numpy as np\n",
    "import seaborn as sns\n",
    "import matplotlib.pyplot as plt"
   ]
  },
  {
   "cell_type": "markdown",
   "id": "80a67f07-92ff-485b-b429-c8c04d055ddf",
   "metadata": {},
   "source": [
    "1. To start, we'll load the data from the file and show the A/B test results."
   ]
  },
  {
   "cell_type": "code",
   "execution_count": 3,
   "id": "22721c0b-224d-41ee-be64-fb15255cfd39",
   "metadata": {},
   "outputs": [
    {
     "data": {
      "text/html": [
       "<div>\n",
       "<style scoped>\n",
       "    .dataframe tbody tr th:only-of-type {\n",
       "        vertical-align: middle;\n",
       "    }\n",
       "\n",
       "    .dataframe tbody tr th {\n",
       "        vertical-align: top;\n",
       "    }\n",
       "\n",
       "    .dataframe thead th {\n",
       "        text-align: right;\n",
       "    }\n",
       "</style>\n",
       "<table border=\"1\" class=\"dataframe\">\n",
       "  <thead>\n",
       "    <tr style=\"text-align: right;\">\n",
       "      <th></th>\n",
       "      <th>user_id</th>\n",
       "      <th>timestamp</th>\n",
       "      <th>test_group</th>\n",
       "      <th>conversion</th>\n",
       "    </tr>\n",
       "  </thead>\n",
       "  <tbody>\n",
       "    <tr>\n",
       "      <th>0</th>\n",
       "      <td>7f6833e6-1141-4f20-b4b2-f1e31019b1fd</td>\n",
       "      <td>2023-07-04 04:40:55.848109</td>\n",
       "      <td>a</td>\n",
       "      <td>0</td>\n",
       "    </tr>\n",
       "    <tr>\n",
       "      <th>1</th>\n",
       "      <td>e6a6e960-d3f3-4074-a516-ba1e609b211e</td>\n",
       "      <td>2023-07-06 00:26:45.486187</td>\n",
       "      <td>b</td>\n",
       "      <td>0</td>\n",
       "    </tr>\n",
       "    <tr>\n",
       "      <th>2</th>\n",
       "      <td>4d3fbfa5-6847-410a-bac2-477f01d5f400</td>\n",
       "      <td>2023-07-10 20:24:33.639464</td>\n",
       "      <td>b</td>\n",
       "      <td>0</td>\n",
       "    </tr>\n",
       "    <tr>\n",
       "      <th>3</th>\n",
       "      <td>361457d9-a044-48f7-981c-d67dc3861679</td>\n",
       "      <td>2023-07-20 07:04:49.957013</td>\n",
       "      <td>b</td>\n",
       "      <td>0</td>\n",
       "    </tr>\n",
       "    <tr>\n",
       "      <th>4</th>\n",
       "      <td>285cd63d-7d03-427f-a062-1fa2dd2e77d6</td>\n",
       "      <td>2023-07-19 23:27:50.116680</td>\n",
       "      <td>b</td>\n",
       "      <td>0</td>\n",
       "    </tr>\n",
       "    <tr>\n",
       "      <th>5</th>\n",
       "      <td>0c6aad3a-8068-473c-98ea-88abbcacbe67</td>\n",
       "      <td>2023-07-15 21:13:55.067827</td>\n",
       "      <td>b</td>\n",
       "      <td>0</td>\n",
       "    </tr>\n",
       "    <tr>\n",
       "      <th>6</th>\n",
       "      <td>397c76e4-a4db-4712-b3ce-febfb13cb634</td>\n",
       "      <td>2023-07-18 07:03:05.315509</td>\n",
       "      <td>b</td>\n",
       "      <td>0</td>\n",
       "    </tr>\n",
       "    <tr>\n",
       "      <th>7</th>\n",
       "      <td>9b1f084d-8a7f-4526-b859-4935ca99482c</td>\n",
       "      <td>2023-07-17 12:11:21.902593</td>\n",
       "      <td>a</td>\n",
       "      <td>0</td>\n",
       "    </tr>\n",
       "    <tr>\n",
       "      <th>8</th>\n",
       "      <td>37ade847-cd45-4ca7-99c6-13fe881e7f42</td>\n",
       "      <td>2023-07-24 23:35:24.243933</td>\n",
       "      <td>b</td>\n",
       "      <td>0</td>\n",
       "    </tr>\n",
       "    <tr>\n",
       "      <th>9</th>\n",
       "      <td>b856113a-75d4-4911-894c-4d4c75f37c34</td>\n",
       "      <td>2023-07-22 19:38:24.460128</td>\n",
       "      <td>a</td>\n",
       "      <td>0</td>\n",
       "    </tr>\n",
       "  </tbody>\n",
       "</table>\n",
       "</div>"
      ],
      "text/plain": [
       "                                user_id                   timestamp  \\\n",
       "0  7f6833e6-1141-4f20-b4b2-f1e31019b1fd  2023-07-04 04:40:55.848109   \n",
       "1  e6a6e960-d3f3-4074-a516-ba1e609b211e  2023-07-06 00:26:45.486187   \n",
       "2  4d3fbfa5-6847-410a-bac2-477f01d5f400  2023-07-10 20:24:33.639464   \n",
       "3  361457d9-a044-48f7-981c-d67dc3861679  2023-07-20 07:04:49.957013   \n",
       "4  285cd63d-7d03-427f-a062-1fa2dd2e77d6  2023-07-19 23:27:50.116680   \n",
       "5  0c6aad3a-8068-473c-98ea-88abbcacbe67  2023-07-15 21:13:55.067827   \n",
       "6  397c76e4-a4db-4712-b3ce-febfb13cb634  2023-07-18 07:03:05.315509   \n",
       "7  9b1f084d-8a7f-4526-b859-4935ca99482c  2023-07-17 12:11:21.902593   \n",
       "8  37ade847-cd45-4ca7-99c6-13fe881e7f42  2023-07-24 23:35:24.243933   \n",
       "9  b856113a-75d4-4911-894c-4d4c75f37c34  2023-07-22 19:38:24.460128   \n",
       "\n",
       "  test_group  conversion  \n",
       "0          a           0  \n",
       "1          b           0  \n",
       "2          b           0  \n",
       "3          b           0  \n",
       "4          b           0  \n",
       "5          b           0  \n",
       "6          b           0  \n",
       "7          a           0  \n",
       "8          b           0  \n",
       "9          a           0  "
      ]
     },
     "execution_count": 3,
     "metadata": {},
     "output_type": "execute_result"
    }
   ],
   "source": [
    "df_testing = pd.read_csv('/Users/elena/Desktop/Goit Data Analysis/Python/ab_test_data.csv')\n",
    "df_testing.head(10)"
   ]
  },
  {
   "cell_type": "markdown",
   "id": "b9b23ef2-de4c-4a7c-b4a1-dc5715d8f808",
   "metadata": {},
   "source": [
    "The number of users in groups A and B is as follows:"
   ]
  },
  {
   "cell_type": "code",
   "execution_count": 4,
   "id": "ec6e3650-6781-4fdb-8556-b2db9afd5036",
   "metadata": {},
   "outputs": [
    {
     "name": "stdout",
     "output_type": "stream",
     "text": [
      "Group A users count: 10013\n",
      "Group B users count: 9985\n"
     ]
    }
   ],
   "source": [
    "user_counts = df_testing['test_group'].value_counts()\n",
    "users_a = user_counts.get('a', 0) ##user count in group A\n",
    "users_b = user_counts.get('b', 0) ##user count in group B\n",
    "\n",
    "print(f\"Group A users count: {user_counts.get('a', 0)}\") \n",
    "print(f\"Group B users count: {user_counts.get('b', 0)}\") "
   ]
  },
  {
   "cell_type": "markdown",
   "id": "83df195b-7780-48da-9eda-787b9f8f0488",
   "metadata": {},
   "source": [
    "So, we have 10,013 users in Group A and 9,985 users in Group B. While these groups are not of the exact same size, this is acceptable for A/B testing."
   ]
  },
  {
   "cell_type": "markdown",
   "id": "890c64c8-2130-435e-9674-eb4240691466",
   "metadata": {},
   "source": [
    "Next, we'll calculate the number of conversions for each group."
   ]
  },
  {
   "cell_type": "code",
   "execution_count": 19,
   "id": "3a1fc0fd-b620-48ad-9877-ac6f07b27f4c",
   "metadata": {},
   "outputs": [
    {
     "name": "stdout",
     "output_type": "stream",
     "text": [
      "Group A conversions count: 611\n",
      "Group B conversions count: 889\n"
     ]
    }
   ],
   "source": [
    "conversion_counts = df_testing[df_testing[\"conversion\"] == 1].groupby(\"test_group\").size()\n",
    "conversions_a = conversion_counts.get('a', 0) ##conversion count in group A\n",
    "conversions_b = conversion_counts.get('b', 0) ##conversion count in group B\n",
    "\n",
    "print(f\"Group A conversions count: {conversion_counts.get('a', 0)}\")\n",
    "print(f\"Group B conversions count: {conversion_counts.get('b', 0)}\")"
   ]
  },
  {
   "cell_type": "markdown",
   "id": "3273d73a-78f2-417b-a7c9-f00a12b19d9d",
   "metadata": {},
   "source": [
    "Then, we calculate the conversion rate for groups A and B, respectively."
   ]
  },
  {
   "cell_type": "code",
   "execution_count": 23,
   "id": "3ce09ec7-aaf4-433c-b67a-a302fcfd9959",
   "metadata": {},
   "outputs": [
    {
     "name": "stdout",
     "output_type": "stream",
     "text": [
      "Group A conversion rate: 6.1\n",
      "Group B conversion rate: 8.9\n"
     ]
    }
   ],
   "source": [
    "conversion_rate_a = (conversions_a / users_a) * 100 if users_a > 0 else 0\n",
    "conversion_rate_b = (conversions_b / users_b) * 100 if users_b > 0 else 0\n",
    "\n",
    "print (f\"Group A conversion rate: {round(conversion_rate_a,2)}\")\n",
    "print (f\"Group B conversion rate: {round(conversion_rate_b,2)}\")"
   ]
  },
  {
   "cell_type": "markdown",
   "id": "effcb1f3-944a-4740-b030-8a59336d4af8",
   "metadata": {},
   "source": [
    "We'll now find the test's start and end dates and calculate its duration in days."
   ]
  },
  {
   "cell_type": "code",
   "execution_count": 7,
   "id": "2a42f108-8e1e-4673-98f7-3509788edfeb",
   "metadata": {},
   "outputs": [],
   "source": [
    "df_testing['timestamp'] = pd.to_datetime(df_testing['timestamp'])"
   ]
  },
  {
   "cell_type": "code",
   "execution_count": 21,
   "id": "de4f858c-50c3-46a9-a495-3fb0c8d65c31",
   "metadata": {},
   "outputs": [
    {
     "name": "stdout",
     "output_type": "stream",
     "text": [
      "\n",
      "Test start date: 2023-07-03\n",
      "\n",
      "Test end date: 2023-07-25\n",
      "\n",
      "Test duration (days): 23\n"
     ]
    }
   ],
   "source": [
    "df_testing['date'] = df_testing['timestamp'].dt.date\n",
    "start_date = df_testing['date'].min() ##test start date\n",
    "end_date = df_testing['date'].max() ##test end date\n",
    "duration_days = (end_date - start_date).days + 1 ##We add +1 to include the start date into test duration\n",
    "\n",
    "print(f\"\\nTest start date: {start_date}\")\n",
    "print(f\"\\nTest end date: {end_date}\")\n",
    "print(f\"\\nTest duration (days): {duration_days}\")"
   ]
  },
  {
   "cell_type": "markdown",
   "id": "490a9a97-79d0-4c51-acb6-d50b5472ca6b",
   "metadata": {},
   "source": [
    "So, this test lasted for 23 days. Depending on factors such as the statistical significance and power levels, the user behavior cycle, and other variables, this duration may be either sufficient or too long."
   ]
  },
  {
   "cell_type": "markdown",
   "id": "4af4bf29-6b1c-411a-a50e-c35f3109e311",
   "metadata": {},
   "source": [
    "2. Next, based on the data, we will investigate whether the conversion difference between the two groups is due to random chance or if it's a genuine effect, proving that the change to the pricing message works. Since we are working with conversion data, we cannot assume a normal distribution.\n",
    "Therefore, the permutation test was chosen to evaluate the test results. This non-parametric test allows us to obtain accurate results by accounting for the sample size and the absence of a normal distribution."
   ]
  },
  {
   "cell_type": "code",
   "execution_count": 22,
   "id": "d6d17c2d-318c-4c10-9258-1aad774f4f8d",
   "metadata": {},
   "outputs": [
    {
     "name": "stdout",
     "output_type": "stream",
     "text": [
      "Observed mean difference: 0.0280\n",
      "P-value: 0.0000\n"
     ]
    }
   ],
   "source": [
    "group_a = np.array([1]*611 + [0]*(10013 - 611)) # Group A: 6,1% conversion with 10013 users\n",
    "group_b = np.array([1]*889 + [0]*(9985 - 889)) # Group B: 8,9% conversion with  9985 users\n",
    "\n",
    "a_size = len(group_a)\n",
    "all_users = np.concatenate([group_a, group_b])\n",
    "observed_diff = np.abs(np.mean(group_a) - np.mean(group_b))\n",
    "n_permutations = 10000\n",
    "simulated_diffs = []\n",
    "\n",
    "for _ in range (n_permutations):\n",
    "    users_shuffled = np.random.permutation(all_users)\n",
    "    users_a_simulated = users_shuffled[:a_size]\n",
    "    users_b_simulated = users_shuffled[a_size:]\n",
    "    simulated_diff = np.abs(np.mean(users_a_simulated) - np.mean(users_b_simulated))\n",
    "    simulated_diffs.append(simulated_diff)\n",
    "\n",
    "count_extreme_diffs = np.sum(np.array(simulated_diffs) >= observed_diff)\n",
    "p_value = count_extreme_diffs / n_permutations\n",
    "\n",
    "print(f\"Observed mean difference: {observed_diff:.4f}\")\n",
    "print(f\"P-value: {p_value:.4f}\")"
   ]
  },
  {
   "cell_type": "markdown",
   "id": "e7eff6b5-ac70-478e-808c-d14ab62a0d05",
   "metadata": {},
   "source": [
    "So, the difference between the average conversion rates of the two groups is 2.8 percentage points. The P-value indicates that this difference is not due to random chance, therefore we reject H0. This means the new message variant is effective and genuinely increases conversions."
   ]
  },
  {
   "cell_type": "markdown",
   "id": "2013ef47-390a-49c7-a28f-b1f605ebcfff",
   "metadata": {},
   "source": [
    "3. We'll build a visualization to compare the mean conversion rates of the two groups, complete with a 95% confidence interval."
   ]
  },
  {
   "cell_type": "code",
   "execution_count": 18,
   "id": "8785742e-9b55-4398-b94d-7cd52f536c95",
   "metadata": {
    "scrolled": true
   },
   "outputs": [
    {
     "data": {
      "image/png": "[encoded data removed]",
      "text/plain": [
       "<Figure size 800x600 with 1 Axes>"
      ]
     },
     "metadata": {},
     "output_type": "display_data"
    }
   ],
   "source": [
    "plt.figure(figsize=(8, 6))\n",
    "sns.barplot(x=df_testing ['test_group'],\n",
    "            y=df_testing ['conversion'],\n",
    "            hue='test_group',\n",
    "            data=df_testing,\n",
    "            errorbar=('ci',95),\n",
    "            palette='viridis')\n",
    "plt.title ('A/B test results with 95% confidence interval')\n",
    "plt.xlabel('Group')\n",
    "plt.ylabel('Mean')\n",
    "plt.show()"
   ]
  },
  {
   "cell_type": "markdown",
   "id": "34ab5d5c-aae5-4c89-9365-9610e780f7cf",
   "metadata": {},
   "source": [
    "This visualization shows that the confidence intervals of the two groups do not overlap. This indicates that the difference in conversions is statistically significant with 95% confidence.\n",
    "\n",
    "Therefore, we can reject the null hypothesis that there is no difference in conversion between Group A and Group B. As a result, we can roll out the new subscription offer of $4.99 with a 50% discount for users who have not yet seen the previous non-discounted message."
   ]
  },
  {
   "cell_type": "code",
   "execution_count": 11,
   "id": "38c02c19-31a0-4576-b6f2-4559f1eef964",
   "metadata": {},
   "outputs": [
    {
     "data": {
      "image/png": "[encoded data removed]",
      "text/plain": [
       "<Figure size 1000x600 with 1 Axes>"
      ]
     },
     "metadata": {},
     "output_type": "display_data"
    }
   ],
   "source": [
    "# We sort data in both groups by date and time to correctly calculate cumulative metrics\n",
    "test_data_a = df_testing[df_testing['test_group'] == 'a'].sort_values('timestamp')\n",
    "test_data_b = df_testing[df_testing['test_group'] == 'b'].sort_values('timestamp')\n",
    "# We calculate cumulative mean - the change in conversion over time\n",
    "cumulative_metric_a = df_testing[df_testing['test_group'] == 'a']['conversion'].expanding().mean().reset_index(drop=True)\n",
    "cumulative_metric_b = df_testing[df_testing['test_group'] == 'b']['conversion'].expanding().mean().reset_index(drop=True)\n",
    "\n",
    "plt.figure(figsize=(10, 6))\n",
    "plt.plot(cumulative_metric_a, label='A')\n",
    "plt.plot(cumulative_metric_b, label='B')\n",
    "\n",
    "plt.title('Cumulative Сonversion Rate Comparison')\n",
    "plt.xlabel('Time')\n",
    "plt.ylabel('Cumulative Сonversion Rate')\n",
    "\n",
    "plt.legend()\n",
    "plt.show()"
   ]
  },
  {
   "cell_type": "markdown",
   "id": "c33ce661-bab8-491c-9930-98a894df1686",
   "metadata": {},
   "source": [
    "This chart demonstrates that the test reached statistical significance when each group accumulated around 1,000 users (the graph visually begins to stabilize).\n",
    "On one hand, this suggests that a sample size of 1,000-2,000 users per group would have been sufficient for the test. On the other hand, increasing the sample size allows for more statistically significant and robust results.\n",
    "The graph allows us to conclude that there is a definite difference between the groups, and we are more than 95% confident in this conclusion. Therefore, the test is a success."
   ]
  }
 ],
 "metadata": {
  "kernelspec": {
   "display_name": "Python [conda env:base] *",
   "language": "python",
   "name": "conda-base-py"
  },
  "language_info": {
   "codemirror_mode": {
    "name": "ipython",
    "version": 3
   },
   "file_extension": ".py",
   "mimetype": "text/x-python",
   "name": "python",
   "nbconvert_exporter": "python",
   "pygments_lexer": "ipython3",
   "version": "3.12.2"
  }
 },
 "nbformat": 4,
 "nbformat_minor": 5
}
